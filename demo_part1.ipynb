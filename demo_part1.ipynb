{
  "cells": [
    {
      "cell_type": "markdown",
      "metadata": {
        "id": "view-in-github",
        "colab_type": "text"
      },
      "source": [
        "<a href=\"https://colab.research.google.com/github/toddlack/OpenVoice/blob/dev/demo_part1.ipynb\" target=\"_parent\"><img src=\"https://colab.research.google.com/assets/colab-badge.svg\" alt=\"Open In Colab\"/></a>"
      ]
    },
    {
      "cell_type": "markdown",
      "id": "b6ee1ede",
      "metadata": {
        "id": "b6ee1ede"
      },
      "source": [
        "## Voice Style Control Demo"
      ]
    },
    {
      "cell_type": "code",
      "source": [],
      "metadata": {
        "id": "4WxYU7TMrH4M"
      },
      "id": "4WxYU7TMrH4M",
      "execution_count": null,
      "outputs": []
    },
    {
      "cell_type": "code",
      "source": [
        "# @title Clone repo for local use\n",
        "#Clone a repo and cd into the new directory\n",
        "content_root = \"/content\" # @param {\"type\":\"string\",\"placeholder\":\"content root\"}\n",
        "git_repo='https://github.com/toddlack/OpenVoice.git'  # @param {\"type\":\"string\",\"placeholder\":\"git repo url\"}\n",
        "git_branch='main'  # @param {\"type\":\"string\",\"placeholder\":\"git branch\"}\n",
        "app_root=git_repo.split('/')[-1].replace('.git', '')\n",
        "assets_dir=f'{content_root}/{app_root}/assets'\n",
        "%cd {content_root}\n",
        "!git clone --single-branch -b {git_branch} {git_repo}\n",
        "%cd {app_root}\n"
      ],
      "metadata": {
        "id": "Qkx1Xt3IAMlN"
      },
      "execution_count": null,
      "outputs": [],
      "id": "Qkx1Xt3IAMlN"
    },
    {
      "cell_type": "code",
      "source": [
        "!cd /content/OpenVoice && pip install -e .\n"
      ],
      "metadata": {
        "id": "dyvv8ZaEs4Br"
      },
      "id": "dyvv8ZaEs4Br",
      "execution_count": null,
      "outputs": []
    },
    {
      "source": [
        "import os\n",
        "import zipfile\n",
        "import requests\n",
        "\n",
        "def download_and_extract(url, download_dir=\"/content\", extract_dir=\"/content/OpenVoice\"):\n",
        "    \"\"\"Downloads and extracts a zip file from a URL to the specified directories.\n",
        "\n",
        "    Args:\n",
        "        url (str): The URL of the zip file.\n",
        "        download_dir (str, optional): The directory to download the zip file to. Defaults to \"/content\".\n",
        "        extract_dir (str, optional): The directory to extract the zip file to. Defaults to \"/content\".\n",
        "    \"\"\"\n",
        "    os.makedirs(download_dir, exist_ok=True)  # Ensure download directory exists\n",
        "    os.makedirs(extract_dir, exist_ok=True)  # Ensure extract directory exists\n",
        "\n",
        "    # Extract filename from URL\n",
        "    filename = url.split(\"/\")[-1]\n",
        "    zip_file_path = os.path.join(download_dir, filename)\n",
        "\n",
        "    # Download the zip file\n",
        "    response = requests.get(url, stream=True)\n",
        "    with open(zip_file_path, \"wb\") as f:\n",
        "        for chunk in response.iter_content(chunk_size=1024):\n",
        "            if chunk:\n",
        "                f.write(chunk)\n",
        "\n",
        "    # Extract the zip file\n",
        "    with zipfile.ZipFile(zip_file_path, \"r\") as zip_ref:\n",
        "        zip_ref.extractall(extract_dir)\n",
        "\n",
        "    print(f\"Downloaded {filename} to: {download_dir}\")\n",
        "    print(f\"Extracted {filename} to: {extract_dir}\")\n",
        "\n",
        "\n",
        "# URLs of the zip files\n",
        "urls = [\n",
        "    \"https://myshell-public-repo-host.s3.amazonaws.com/openvoice/checkpoints_1226.zip\",\n",
        "    \"https://myshell-public-repo-host.s3.amazonaws.com/openvoice/checkpoints_v2_0417.zip\",\n",
        "]\n",
        "\n",
        "# Download and extract each zip file\n",
        "for url in urls:\n",
        "    download_and_extract(url)"
      ],
      "cell_type": "code",
      "metadata": {
        "id": "aSX-WTBe1i-B",
        "outputId": "07aa481a-63d7-4085-b55b-640899e1e4d0",
        "colab": {
          "base_uri": "https://localhost:8080/"
        }
      },
      "id": "aSX-WTBe1i-B",
      "execution_count": 5,
      "outputs": [
        {
          "output_type": "stream",
          "name": "stdout",
          "text": [
            "Downloaded checkpoints_1226.zip to: /content\n",
            "Extracted checkpoints_1226.zip to: /content/OpenVoice\n",
            "Downloaded checkpoints_v2_0417.zip to: /content\n",
            "Extracted checkpoints_v2_0417.zip to: /content/OpenVoice\n"
          ]
        }
      ]
    },
    {
      "cell_type": "code",
      "source": [
        "!pwd\n",
        "!python openvoice/openvoice_app.py --share"
      ],
      "metadata": {
        "id": "bo0Qi3iVxPzJ",
        "outputId": "aca6209e-8681-4292-893e-4c8b7cc0b637",
        "colab": {
          "base_uri": "https://localhost:8080/"
        }
      },
      "id": "bo0Qi3iVxPzJ",
      "execution_count": 6,
      "outputs": [
        {
          "output_type": "stream",
          "name": "stdout",
          "text": [
            "/content/OpenVoice\n",
            "RuntimeError: module was compiled against NumPy C-API version 0x10 (NumPy 1.23) but the running NumPy has C-API version 0xf. Check the section C-API incompatibility at the Troubleshooting ImportError section at https://numpy.org/devdocs/user/troubleshooting-importerror.html#c-api-incompatibility for indications on how to solve this problem.\n",
            "/usr/local/lib/python3.10/dist-packages/torch/nn/utils/weight_norm.py:143: FutureWarning: `torch.nn.utils.weight_norm` is deprecated in favor of `torch.nn.utils.parametrizations.weight_norm`.\n",
            "  WeightNorm.apply(module, name, dim)\n",
            "/content/OpenVoice/openvoice/api.py:36: FutureWarning: You are using `torch.load` with `weights_only=False` (the current default value), which uses the default pickle module implicitly. It is possible to construct malicious pickle data which will execute arbitrary code during unpickling (See https://github.com/pytorch/pytorch/blob/main/SECURITY.md#untrusted-models for more details). In a future release, the default value for `weights_only` will be flipped to `True`. This limits the functions that could be executed during unpickling. Arbitrary objects will no longer be allowed to be loaded via this mode unless they are explicitly allowlisted by the user via `torch.serialization.add_safe_globals`. We recommend you start setting `weights_only=True` for any use case where you don't have full control of the loaded file. Please open an issue on GitHub for any issues related to this experimental feature.\n",
            "  checkpoint_dict = torch.load(ckpt_path, map_location=torch.device(self.device))\n",
            "Loaded checkpoint 'checkpoints/base_speakers/EN/checkpoint.pth'\n",
            "missing/unexpected keys: [] []\n",
            "Loaded checkpoint 'checkpoints/base_speakers/ZH/checkpoint.pth'\n",
            "missing/unexpected keys: [] []\n",
            "Downloading (…)81_std1.81.model.pkl: 100% 10.0M/10.0M [00:00<00:00, 112MB/s]\n",
            "/usr/local/lib/python3.10/dist-packages/wavmark/__init__.py:16: FutureWarning: You are using `torch.load` with `weights_only=False` (the current default value), which uses the default pickle module implicitly. It is possible to construct malicious pickle data which will execute arbitrary code during unpickling (See https://github.com/pytorch/pytorch/blob/main/SECURITY.md#untrusted-models for more details). In a future release, the default value for `weights_only` will be flipped to `True`. This limits the functions that could be executed during unpickling. Arbitrary objects will no longer be allowed to be loaded via this mode unless they are explicitly allowlisted by the user via `torch.serialization.add_safe_globals`. We recommend you start setting `weights_only=True` for any use case where you don't have full control of the loaded file. Please open an issue on GitHub for any issues related to this experimental feature.\n",
            "  checkpoint = torch.load(resume_path, map_location=torch.device('cpu'))\n",
            "Loaded checkpoint 'checkpoints/converter/checkpoint.pth'\n",
            "missing/unexpected keys: [] []\n",
            "/content/OpenVoice/openvoice/openvoice_app.py:30: FutureWarning: You are using `torch.load` with `weights_only=False` (the current default value), which uses the default pickle module implicitly. It is possible to construct malicious pickle data which will execute arbitrary code during unpickling (See https://github.com/pytorch/pytorch/blob/main/SECURITY.md#untrusted-models for more details). In a future release, the default value for `weights_only` will be flipped to `True`. This limits the functions that could be executed during unpickling. Arbitrary objects will no longer be allowed to be loaded via this mode unless they are explicitly allowlisted by the user via `torch.serialization.add_safe_globals`. We recommend you start setting `weights_only=True` for any use case where you don't have full control of the loaded file. Please open an issue on GitHub for any issues related to this experimental feature.\n",
            "  en_source_default_se = torch.load(f'{en_ckpt_base}/en_default_se.pth').to(device)\n",
            "/content/OpenVoice/openvoice/openvoice_app.py:31: FutureWarning: You are using `torch.load` with `weights_only=False` (the current default value), which uses the default pickle module implicitly. It is possible to construct malicious pickle data which will execute arbitrary code during unpickling (See https://github.com/pytorch/pytorch/blob/main/SECURITY.md#untrusted-models for more details). In a future release, the default value for `weights_only` will be flipped to `True`. This limits the functions that could be executed during unpickling. Arbitrary objects will no longer be allowed to be loaded via this mode unless they are explicitly allowlisted by the user via `torch.serialization.add_safe_globals`. We recommend you start setting `weights_only=True` for any use case where you don't have full control of the loaded file. Please open an issue on GitHub for any issues related to this experimental feature.\n",
            "  en_source_style_se = torch.load(f'{en_ckpt_base}/en_style_se.pth').to(device)\n",
            "/content/OpenVoice/openvoice/openvoice_app.py:32: FutureWarning: You are using `torch.load` with `weights_only=False` (the current default value), which uses the default pickle module implicitly. It is possible to construct malicious pickle data which will execute arbitrary code during unpickling (See https://github.com/pytorch/pytorch/blob/main/SECURITY.md#untrusted-models for more details). In a future release, the default value for `weights_only` will be flipped to `True`. This limits the functions that could be executed during unpickling. Arbitrary objects will no longer be allowed to be loaded via this mode unless they are explicitly allowlisted by the user via `torch.serialization.add_safe_globals`. We recommend you start setting `weights_only=True` for any use case where you don't have full control of the loaded file. Please open an issue on GitHub for any issues related to this experimental feature.\n",
            "  zh_source_se = torch.load(f'{zh_ckpt_base}/zh_default_se.pth').to(device)\n",
            "/usr/local/lib/python3.10/dist-packages/gradio/components/dropdown.py:103: UserWarning: The `max_choices` parameter is ignored when `multiselect` is False.\n",
            "  warnings.warn(\n",
            "Running on local URL:  http://127.0.0.1:7860\n",
            "Running on public URL: https://d18fb58d9383ffd72e.gradio.live\n",
            "\n",
            "This share link expires in 72 hours. For free permanent hosting and GPU upgrades, run `gradio deploy` from Terminal to deploy to Spaces (https://huggingface.co/spaces)\n",
            "Detected language:en\n",
            "OpenVoice version: v1\n",
            "/usr/local/lib/python3.10/dist-packages/torch/hub.py:330: UserWarning: You are about to download and run code from an untrusted repository. In a future release, this won't be allowed. To add the repository to your trusted list, change the command to {calling_fn}(..., trust_repo=False) and a command prompt will appear asking for an explicit confirmation of trust, or load(..., trust_repo=True), which will assume that the prompt is to be answered with 'yes'. You can also use load(..., trust_repo='check') which will only prompt for confirmation if the repo is not already trusted. This will eventually be the default behaviour\n",
            "  warnings.warn(\n",
            "Downloading: \"https://github.com/snakers4/silero-vad/zipball/master\" to /root/.cache/torch/hub/master.zip\n",
            "[(0.0, 8.21), (9.39, 12.946), (13.262, 29.49225)]\n",
            "after vad: dur = 27.995986394557825\n",
            "/usr/local/lib/python3.10/dist-packages/torch/functional.py:704: UserWarning: stft with return_complex=False is deprecated. In a future pytorch release, stft will return complex tensors for all inputs, and return_complex=False will raise an error.\n",
            "Note: you can still call torch.view_as_real on the complex output to recover the old return format. (Triggered internally at ../aten/src/ATen/native/SpectralOps.cpp:873.)\n",
            "  return _VF.stft(  # type: ignore[attr-defined]\n",
            " > Text splitted to sentences.\n",
            "He hoped there would be stew for dinner, turnips and carrots and bruised potatoes and fat mutton pieces to be ladled out in thick,\n",
            "peppered, flour-fattened sauce.\n",
            " > ===========================\n",
            "hi hoʊpt ðɛɹ wʊd bi stu fəɹ ˈdɪnəɹ, ˈtəɹnəps ənd ˈkɛɹəts ənd bɹuzd pəˈteɪtoʊz ənd fæt ˈmətən ˈpisɪz tɪ bi ˈleɪdəɫd aʊt ɪn θɪk,\n",
            " length:126\n",
            " length:126\n",
            "ˈpɛpəɹd, flouɹ-fattened* sɔs.\n",
            " length:29\n",
            " length:29\n",
            "Detected language:en\n",
            "OpenVoice version: v1\n",
            "[(0.174, 2.706), (3.502, 7.634), (9.71, 12.978), (14.83, 16.85), (17.518, 20.082), (24.654, 26.162), (33.614, 40.498), (45.486, 54.45), (55.534, 57.426), (59.758, 61.042), (74.446, 77.938)]\n",
            "after vad: dur = 38.54\n",
            " > Text splitted to sentences.\n",
            "We introduce OpenVoice, a versatile instant voice cloning approach that requires only a short audio clip from the reference speaker to replicate their voice and generate speech in multiple languages.\n",
            " > ===========================\n",
            "wi ˌɪntɹəˈdus ˈoʊpən vɔɪs, ə ˈvəɹsətəɫ ˈɪnstənt vɔɪs ˈkloʊnɪŋ əˈpɹoʊtʃ ðət ɹikˈwaɪəɹz ˈoʊnli ə ʃɔɹt ˈɑdiˌoʊ klɪp fɹəm ðə ˈɹɛfəɹəns ˈspikəɹ tɪ ˈɹɛplɪˌkeɪt ðɛɹ vɔɪs ənd ˈdʒɛnəɹˌeɪt spitʃ ɪn ˈməltəpəɫ ˈlæŋgwɪdʒɪz.\n",
            " length:210\n",
            " length:210\n",
            "Keyboard interruption in main thread... closing server.\n",
            "Traceback (most recent call last):\n",
            "  File \"/usr/local/lib/python3.10/dist-packages/gradio/blocks.py\", line 2361, in block_thread\n",
            "    time.sleep(0.1)\n",
            "KeyboardInterrupt\n",
            "\n",
            "During handling of the above exception, another exception occurred:\n",
            "\n",
            "Traceback (most recent call last):\n",
            "  File \"/content/OpenVoice/openvoice/openvoice_app.py\", line 275, in <module>\n",
            "    demo.launch(debug=True, show_api=True, share=args.share)\n",
            "  File \"/usr/local/lib/python3.10/dist-packages/gradio/blocks.py\", line 2255, in launch\n",
            "    self.block_thread()\n",
            "  File \"/usr/local/lib/python3.10/dist-packages/gradio/blocks.py\", line 2365, in block_thread\n",
            "    self.server.close()\n",
            "  File \"/usr/local/lib/python3.10/dist-packages/gradio/networking.py\", line 75, in close\n",
            "    self.thread.join()\n",
            "  File \"/usr/lib/python3.10/threading.py\", line 1092, in join\n",
            "    if self is current_thread():\n",
            "  File \"/usr/lib/python3.10/threading.py\", line 1438, in current_thread\n",
            "    return _active[get_ident()]\n",
            "KeyboardInterrupt\n",
            "Killing tunnel 127.0.0.1:7860 <> https://d18fb58d9383ffd72e.gradio.live\n",
            "^C\n"
          ]
        }
      ]
    },
    {
      "cell_type": "code",
      "source": [
        "# prompt: run python module openvoice_app.py\n",
        "\n",
        "!python -m /content/OpenVoice/openvoice/openvoice_app.py --share\n"
      ],
      "metadata": {
        "id": "-nzVePbFx6qP"
      },
      "id": "-nzVePbFx6qP",
      "execution_count": null,
      "outputs": []
    },
    {
      "source": [
        "!pip install numpy==1.23 --upgrade\n",
        "# !pip install .\n",
        "!cd /content/OpenVoice && pip install -e .\n",
        "!pip install --force-reinstall OpenVoice"
      ],
      "cell_type": "code",
      "metadata": {
        "id": "QqtEQhxOuzb7"
      },
      "id": "QqtEQhxOuzb7",
      "execution_count": null,
      "outputs": []
    },
    {
      "cell_type": "code",
      "execution_count": null,
      "id": "b7f043ee",
      "metadata": {
        "id": "b7f043ee"
      },
      "outputs": [],
      "source": [
        "import os\n",
        "import torch\n",
        "from openvoice import se_extractor\n",
        "from openvoice.api import BaseSpeakerTTS, ToneColorConverter"
      ]
    },
    {
      "cell_type": "markdown",
      "id": "15116b59",
      "metadata": {
        "id": "15116b59"
      },
      "source": [
        "### Initialization"
      ]
    },
    {
      "cell_type": "code",
      "execution_count": null,
      "id": "aacad912",
      "metadata": {
        "id": "aacad912"
      },
      "outputs": [],
      "source": [
        "ckpt_base = 'checkpoints/base_speakers/EN'\n",
        "ckpt_converter = 'checkpoints/converter'\n",
        "device=\"cuda:0\" if torch.cuda.is_available() else \"cpu\"\n",
        "output_dir = 'outputs'\n",
        "\n",
        "base_speaker_tts = BaseSpeakerTTS(f'{ckpt_base}/config.json', device=device)\n",
        "base_speaker_tts.load_ckpt(f'{ckpt_base}/checkpoint.pth')\n",
        "\n",
        "tone_color_converter = ToneColorConverter(f'{ckpt_converter}/config.json', device=device)\n",
        "tone_color_converter.load_ckpt(f'{ckpt_converter}/checkpoint.pth')\n",
        "\n",
        "os.makedirs(output_dir, exist_ok=True)"
      ]
    },
    {
      "cell_type": "markdown",
      "id": "7f67740c",
      "metadata": {
        "id": "7f67740c"
      },
      "source": [
        "### Obtain Tone Color Embedding"
      ]
    },
    {
      "cell_type": "markdown",
      "id": "f8add279",
      "metadata": {
        "id": "f8add279"
      },
      "source": [
        "The `source_se` is the tone color embedding of the base speaker.\n",
        "It is an average of multiple sentences generated by the base speaker. We directly provide the result here but\n",
        "the readers feel free to extract `source_se` by themselves."
      ]
    },
    {
      "cell_type": "code",
      "execution_count": null,
      "id": "63ff6273",
      "metadata": {
        "id": "63ff6273"
      },
      "outputs": [],
      "source": [
        "source_se = torch.load(f'{ckpt_base}/en_default_se.pth').to(device)"
      ]
    },
    {
      "cell_type": "markdown",
      "id": "4f71fcc3",
      "metadata": {
        "id": "4f71fcc3"
      },
      "source": [
        "The `reference_speaker.mp3` below points to the short audio clip of the reference whose voice we want to clone. We provide an example here. If you use your own reference speakers, please **make sure each speaker has a unique filename.** The `se_extractor` will save the `targeted_se` using the filename of the audio and **will not automatically overwrite.**"
      ]
    },
    {
      "cell_type": "code",
      "execution_count": null,
      "id": "55105eae",
      "metadata": {
        "id": "55105eae"
      },
      "outputs": [],
      "source": [
        "reference_speaker = 'resources/example_reference.mp3' # This is the voice you want to clone\n",
        "target_se, audio_name = se_extractor.get_se(reference_speaker, tone_color_converter, target_dir='processed', vad=True)"
      ]
    },
    {
      "cell_type": "markdown",
      "id": "a40284aa",
      "metadata": {
        "id": "a40284aa"
      },
      "source": [
        "### Inference"
      ]
    },
    {
      "cell_type": "code",
      "execution_count": null,
      "id": "73dc1259",
      "metadata": {
        "id": "73dc1259"
      },
      "outputs": [],
      "source": [
        "save_path = f'{output_dir}/output_en_default.wav'\n",
        "\n",
        "# Run the base speaker tts\n",
        "text = \"This audio is generated by OpenVoice.\"\n",
        "src_path = f'{output_dir}/tmp.wav'\n",
        "base_speaker_tts.tts(text, src_path, speaker='default', language='English', speed=1.0)\n",
        "\n",
        "# Run the tone color converter\n",
        "encode_message = \"@MyShell\"\n",
        "tone_color_converter.convert(\n",
        "    audio_src_path=src_path,\n",
        "    src_se=source_se,\n",
        "    tgt_se=target_se,\n",
        "    output_path=save_path,\n",
        "    message=encode_message)"
      ]
    },
    {
      "cell_type": "markdown",
      "id": "6e3ea28a",
      "metadata": {
        "id": "6e3ea28a"
      },
      "source": [
        "**Try with different styles and speed.** The style can be controlled by the `speaker` parameter in the `base_speaker_tts.tts` method. Available choices: friendly, cheerful, excited, sad, angry, terrified, shouting, whispering. Note that the tone color embedding need to be updated. The speed can be controlled by the `speed` parameter. Let's try whispering with speed 0.9."
      ]
    },
    {
      "cell_type": "code",
      "execution_count": null,
      "id": "fd022d38",
      "metadata": {
        "id": "fd022d38"
      },
      "outputs": [],
      "source": [
        "source_se = torch.load(f'{ckpt_base}/en_style_se.pth').to(device)\n",
        "save_path = f'{output_dir}/output_whispering.wav'\n",
        "\n",
        "# Run the base speaker tts\n",
        "text = \"This audio is generated by OpenVoice.\"\n",
        "src_path = f'{output_dir}/tmp.wav'\n",
        "base_speaker_tts.tts(text, src_path, speaker='whispering', language='English', speed=0.9)\n",
        "\n",
        "# Run the tone color converter\n",
        "encode_message = \"@MyShell\"\n",
        "tone_color_converter.convert(\n",
        "    audio_src_path=src_path,\n",
        "    src_se=source_se,\n",
        "    tgt_se=target_se,\n",
        "    output_path=save_path,\n",
        "    message=encode_message)"
      ]
    },
    {
      "cell_type": "markdown",
      "id": "5fcfc70b",
      "metadata": {
        "id": "5fcfc70b"
      },
      "source": [
        "**Try with different languages.** OpenVoice can achieve multi-lingual voice cloning by simply replace the base speaker. We provide an example with a Chinese base speaker here and we encourage the readers to try `demo_part2.ipynb` for a detailed demo."
      ]
    },
    {
      "cell_type": "code",
      "execution_count": null,
      "id": "a71d1387",
      "metadata": {
        "id": "a71d1387"
      },
      "outputs": [],
      "source": [
        "\n",
        "ckpt_base = 'checkpoints/base_speakers/ZH'\n",
        "base_speaker_tts = BaseSpeakerTTS(f'{ckpt_base}/config.json', device=device)\n",
        "base_speaker_tts.load_ckpt(f'{ckpt_base}/checkpoint.pth')\n",
        "\n",
        "source_se = torch.load(f'{ckpt_base}/zh_default_se.pth').to(device)\n",
        "save_path = f'{output_dir}/output_chinese.wav'\n",
        "\n",
        "# Run the base speaker tts\n",
        "text = \"今天天气真好，我们一起出去吃饭吧。\"\n",
        "src_path = f'{output_dir}/tmp.wav'\n",
        "base_speaker_tts.tts(text, src_path, speaker='default', language='Chinese', speed=1.0)\n",
        "\n",
        "# Run the tone color converter\n",
        "encode_message = \"@MyShell\"\n",
        "tone_color_converter.convert(\n",
        "    audio_src_path=src_path,\n",
        "    src_se=source_se,\n",
        "    tgt_se=target_se,\n",
        "    output_path=save_path,\n",
        "    message=encode_message)"
      ]
    },
    {
      "cell_type": "markdown",
      "id": "8e513094",
      "metadata": {
        "id": "8e513094"
      },
      "source": [
        "**Tech for good.** For people who will deploy OpenVoice for public usage: We offer you the option to add watermark to avoid potential misuse. Please see the ToneColorConverter class. **MyShell reserves the ability to detect whether an audio is generated by OpenVoice**, no matter whether the watermark is added or not."
      ]
    }
  ],
  "metadata": {
    "interpreter": {
      "hash": "9d70c38e1c0b038dbdffdaa4f8bfa1f6767c43760905c87a9fbe7800d18c6c35"
    },
    "kernelspec": {
      "display_name": "Python 3",
      "name": "python3"
    },
    "language_info": {
      "codemirror_mode": {
        "name": "ipython",
        "version": 3
      },
      "file_extension": ".py",
      "mimetype": "text/x-python",
      "name": "python",
      "nbconvert_exporter": "python",
      "pygments_lexer": "ipython3",
      "version": "3.9.18"
    },
    "colab": {
      "provenance": [],
      "machine_shape": "hm",
      "gpuType": "L4",
      "include_colab_link": true
    },
    "accelerator": "GPU"
  },
  "nbformat": 4,
  "nbformat_minor": 5
}