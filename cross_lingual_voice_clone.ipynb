{
  "cells": [
    {
      "cell_type": "markdown",
      "metadata": {
        "id": "view-in-github",
        "colab_type": "text"
      },
      "source": [
        "<a href=\"https://colab.research.google.com/github/toddlack/OpenVoice/blob/dev/cross_lingual_voice_clone.ipynb\" target=\"_parent\"><img src=\"https://colab.research.google.com/assets/colab-badge.svg\" alt=\"Open In Colab\"/></a>"
      ]
    },
    {
      "cell_type": "markdown",
      "id": "b6ee1ede",
      "metadata": {
        "id": "b6ee1ede"
      },
      "source": [
        "## Cross-Lingual Voice Clone Demo"
      ]
    },
    {
      "cell_type": "code",
      "source": [
        "# prompt: mount google drive\n",
        "\n",
        "from google.colab import drive\n",
        "drive.mount('/content/drive')\n"
      ],
      "metadata": {
        "id": "4WxYU7TMrH4M",
        "outputId": "8fe25bfc-9fa2-4755-ab76-ef44dc6c62ff",
        "colab": {
          "base_uri": "https://localhost:8080/"
        }
      },
      "outputs": [
        {
          "output_type": "stream",
          "name": "stdout",
          "text": [
            "Drive already mounted at /content/drive; to attempt to forcibly remount, call drive.mount(\"/content/drive\", force_remount=True).\n"
          ]
        }
      ],
      "execution_count": 1,
      "id": "4WxYU7TMrH4M"
    },
    {
      "cell_type": "code",
      "execution_count": 2,
      "metadata": {
        "id": "Qkx1Xt3IAMlN",
        "outputId": "382da187-44fd-468c-c25d-8b9fdbee843b",
        "colab": {
          "base_uri": "https://localhost:8080/"
        }
      },
      "outputs": [
        {
          "output_type": "stream",
          "name": "stdout",
          "text": [
            "/content\n",
            "fatal: destination path 'OpenVoice' already exists and is not an empty directory.\n",
            "/content/OpenVoice\n"
          ]
        }
      ],
      "source": [
        "# @title Clone repo for local use\n",
        "#Clone a repo and cd into the new directory\n",
        "content_root = \"/content\" # @param {\"type\":\"string\",\"placeholder\":\"content root\"}\n",
        "git_repo='https://github.com/toddlack/OpenVoice.git'  # @param {\"type\":\"string\",\"placeholder\":\"git repo url\"}\n",
        "git_branch='dev'  # @param {\"type\":\"string\",\"placeholder\":\"git branch\"}\n",
        "app_root=git_repo.split('/')[-1].replace('.git', '')\n",
        "assets_dir=f'{content_root}/{app_root}/assets'\n",
        "%cd {content_root}\n",
        "!git clone --single-branch -b {git_branch} {git_repo}\n",
        "%cd {app_root}\n"
      ],
      "id": "Qkx1Xt3IAMlN"
    },
    {
      "cell_type": "code",
      "execution_count": 3,
      "metadata": {
        "id": "dyvv8ZaEs4Br",
        "outputId": "3cb25f46-4d95-4c5e-beaf-ce85ae09ddc3",
        "colab": {
          "base_uri": "https://localhost:8080/"
        }
      },
      "outputs": [
        {
          "output_type": "stream",
          "name": "stdout",
          "text": [
            "Requirement already satisfied: python-dotenv in /usr/local/lib/python3.10/dist-packages (1.0.1)\n",
            "Obtaining file:///content/OpenVoice\n",
            "  Preparing metadata (setup.py) ... \u001b[?25l\u001b[?25hdone\n",
            "Requirement already satisfied: librosa==0.9.1 in /usr/local/lib/python3.10/dist-packages (from MyShell-OpenVoice==0.0.0) (0.9.1)\n",
            "Requirement already satisfied: faster-whisper==0.9.0 in /usr/local/lib/python3.10/dist-packages (from MyShell-OpenVoice==0.0.0) (0.9.0)\n",
            "Requirement already satisfied: pydub==0.25.1 in /usr/local/lib/python3.10/dist-packages (from MyShell-OpenVoice==0.0.0) (0.25.1)\n",
            "Requirement already satisfied: wavmark==0.0.3 in /usr/local/lib/python3.10/dist-packages (from MyShell-OpenVoice==0.0.0) (0.0.3)\n",
            "Requirement already satisfied: numpy==1.22.0 in /usr/local/lib/python3.10/dist-packages (from MyShell-OpenVoice==0.0.0) (1.22.0)\n",
            "Requirement already satisfied: eng_to_ipa==0.0.2 in /usr/local/lib/python3.10/dist-packages (from MyShell-OpenVoice==0.0.0) (0.0.2)\n",
            "Requirement already satisfied: inflect==7.0.0 in /usr/local/lib/python3.10/dist-packages (from MyShell-OpenVoice==0.0.0) (7.0.0)\n",
            "Requirement already satisfied: unidecode==1.3.7 in /usr/local/lib/python3.10/dist-packages (from MyShell-OpenVoice==0.0.0) (1.3.7)\n",
            "Requirement already satisfied: whisper-timestamped==1.14.2 in /usr/local/lib/python3.10/dist-packages (from MyShell-OpenVoice==0.0.0) (1.14.2)\n",
            "Requirement already satisfied: pypinyin==0.50.0 in /usr/local/lib/python3.10/dist-packages (from MyShell-OpenVoice==0.0.0) (0.50.0)\n",
            "Requirement already satisfied: cn2an==0.5.22 in /usr/local/lib/python3.10/dist-packages (from MyShell-OpenVoice==0.0.0) (0.5.22)\n",
            "Requirement already satisfied: jieba==0.42.1 in /usr/local/lib/python3.10/dist-packages (from MyShell-OpenVoice==0.0.0) (0.42.1)\n",
            "Requirement already satisfied: gradio==3.48.0 in /usr/local/lib/python3.10/dist-packages (from MyShell-OpenVoice==0.0.0) (3.48.0)\n",
            "Requirement already satisfied: langid==1.1.6 in /usr/local/lib/python3.10/dist-packages (from MyShell-OpenVoice==0.0.0) (1.1.6)\n",
            "Requirement already satisfied: setuptools>=47.3.1 in /usr/local/lib/python3.10/dist-packages (from cn2an==0.5.22->MyShell-OpenVoice==0.0.0) (75.1.0)\n",
            "Requirement already satisfied: proces>=0.1.3 in /usr/local/lib/python3.10/dist-packages (from cn2an==0.5.22->MyShell-OpenVoice==0.0.0) (0.1.7)\n",
            "Requirement already satisfied: av==10.* in /usr/local/lib/python3.10/dist-packages (from faster-whisper==0.9.0->MyShell-OpenVoice==0.0.0) (10.0.0)\n",
            "Requirement already satisfied: ctranslate2<4,>=3.17 in /usr/local/lib/python3.10/dist-packages (from faster-whisper==0.9.0->MyShell-OpenVoice==0.0.0) (3.24.0)\n",
            "Requirement already satisfied: huggingface-hub>=0.13 in /usr/local/lib/python3.10/dist-packages (from faster-whisper==0.9.0->MyShell-OpenVoice==0.0.0) (0.17.3)\n",
            "Requirement already satisfied: tokenizers<0.15,>=0.13 in /usr/local/lib/python3.10/dist-packages (from faster-whisper==0.9.0->MyShell-OpenVoice==0.0.0) (0.14.1)\n",
            "Requirement already satisfied: onnxruntime<2,>=1.14 in /usr/local/lib/python3.10/dist-packages (from faster-whisper==0.9.0->MyShell-OpenVoice==0.0.0) (1.20.1)\n",
            "Requirement already satisfied: aiofiles<24.0,>=22.0 in /usr/local/lib/python3.10/dist-packages (from gradio==3.48.0->MyShell-OpenVoice==0.0.0) (23.2.1)\n",
            "Requirement already satisfied: altair<6.0,>=4.2.0 in /usr/local/lib/python3.10/dist-packages (from gradio==3.48.0->MyShell-OpenVoice==0.0.0) (5.5.0)\n",
            "Requirement already satisfied: fastapi in /usr/local/lib/python3.10/dist-packages (from gradio==3.48.0->MyShell-OpenVoice==0.0.0) (0.115.6)\n",
            "Requirement already satisfied: ffmpy in /usr/local/lib/python3.10/dist-packages (from gradio==3.48.0->MyShell-OpenVoice==0.0.0) (0.5.0)\n",
            "Requirement already satisfied: gradio-client==0.6.1 in /usr/local/lib/python3.10/dist-packages (from gradio==3.48.0->MyShell-OpenVoice==0.0.0) (0.6.1)\n",
            "Requirement already satisfied: httpx in /usr/local/lib/python3.10/dist-packages (from gradio==3.48.0->MyShell-OpenVoice==0.0.0) (0.28.1)\n",
            "Requirement already satisfied: importlib-resources<7.0,>=1.3 in /usr/local/lib/python3.10/dist-packages (from gradio==3.48.0->MyShell-OpenVoice==0.0.0) (6.4.5)\n",
            "Requirement already satisfied: jinja2<4.0 in /usr/local/lib/python3.10/dist-packages (from gradio==3.48.0->MyShell-OpenVoice==0.0.0) (3.1.4)\n",
            "Requirement already satisfied: markupsafe~=2.0 in /usr/local/lib/python3.10/dist-packages (from gradio==3.48.0->MyShell-OpenVoice==0.0.0) (2.1.5)\n",
            "Requirement already satisfied: matplotlib~=3.0 in /usr/local/lib/python3.10/dist-packages (from gradio==3.48.0->MyShell-OpenVoice==0.0.0) (3.8.0)\n",
            "Requirement already satisfied: orjson~=3.0 in /usr/local/lib/python3.10/dist-packages (from gradio==3.48.0->MyShell-OpenVoice==0.0.0) (3.10.12)\n",
            "Requirement already satisfied: packaging in /usr/local/lib/python3.10/dist-packages (from gradio==3.48.0->MyShell-OpenVoice==0.0.0) (24.2)\n",
            "Requirement already satisfied: pandas<3.0,>=1.0 in /usr/local/lib/python3.10/dist-packages (from gradio==3.48.0->MyShell-OpenVoice==0.0.0) (2.0.3)\n",
            "Requirement already satisfied: pillow<11.0,>=8.0 in /usr/local/lib/python3.10/dist-packages (from gradio==3.48.0->MyShell-OpenVoice==0.0.0) (10.4.0)\n",
            "Requirement already satisfied: pydantic!=1.8,!=1.8.1,!=2.0.0,!=2.0.1,<3.0.0,>=1.7.4 in /usr/local/lib/python3.10/dist-packages (from gradio==3.48.0->MyShell-OpenVoice==0.0.0) (2.10.3)\n",
            "Requirement already satisfied: python-multipart in /usr/local/lib/python3.10/dist-packages (from gradio==3.48.0->MyShell-OpenVoice==0.0.0) (0.0.20)\n",
            "Requirement already satisfied: pyyaml<7.0,>=5.0 in /usr/local/lib/python3.10/dist-packages (from gradio==3.48.0->MyShell-OpenVoice==0.0.0) (6.0.2)\n",
            "Requirement already satisfied: requests~=2.0 in /usr/local/lib/python3.10/dist-packages (from gradio==3.48.0->MyShell-OpenVoice==0.0.0) (2.32.3)\n",
            "Requirement already satisfied: semantic-version~=2.0 in /usr/local/lib/python3.10/dist-packages (from gradio==3.48.0->MyShell-OpenVoice==0.0.0) (2.10.0)\n",
            "Requirement already satisfied: typing-extensions~=4.0 in /usr/local/lib/python3.10/dist-packages (from gradio==3.48.0->MyShell-OpenVoice==0.0.0) (4.12.2)\n",
            "Requirement already satisfied: uvicorn>=0.14.0 in /usr/local/lib/python3.10/dist-packages (from gradio==3.48.0->MyShell-OpenVoice==0.0.0) (0.34.0)\n",
            "Requirement already satisfied: websockets<12.0,>=10.0 in /usr/local/lib/python3.10/dist-packages (from gradio==3.48.0->MyShell-OpenVoice==0.0.0) (11.0.3)\n",
            "Requirement already satisfied: audioread>=2.1.5 in /usr/local/lib/python3.10/dist-packages (from librosa==0.9.1->MyShell-OpenVoice==0.0.0) (3.0.1)\n",
            "Requirement already satisfied: scipy>=1.2.0 in /usr/local/lib/python3.10/dist-packages (from librosa==0.9.1->MyShell-OpenVoice==0.0.0) (1.11.4)\n",
            "Requirement already satisfied: scikit-learn>=0.19.1 in /usr/local/lib/python3.10/dist-packages (from librosa==0.9.1->MyShell-OpenVoice==0.0.0) (1.6.0)\n",
            "Requirement already satisfied: joblib>=0.14 in /usr/local/lib/python3.10/dist-packages (from librosa==0.9.1->MyShell-OpenVoice==0.0.0) (1.4.2)\n",
            "Requirement already satisfied: decorator>=4.0.10 in /usr/local/lib/python3.10/dist-packages (from librosa==0.9.1->MyShell-OpenVoice==0.0.0) (4.4.2)\n",
            "Requirement already satisfied: resampy>=0.2.2 in /usr/local/lib/python3.10/dist-packages (from librosa==0.9.1->MyShell-OpenVoice==0.0.0) (0.4.3)\n",
            "Requirement already satisfied: numba>=0.45.1 in /usr/local/lib/python3.10/dist-packages (from librosa==0.9.1->MyShell-OpenVoice==0.0.0) (0.60.0)\n",
            "Requirement already satisfied: soundfile>=0.10.2 in /usr/local/lib/python3.10/dist-packages (from librosa==0.9.1->MyShell-OpenVoice==0.0.0) (0.12.1)\n",
            "Requirement already satisfied: pooch>=1.0 in /usr/local/lib/python3.10/dist-packages (from librosa==0.9.1->MyShell-OpenVoice==0.0.0) (1.8.2)\n",
            "Requirement already satisfied: torch in /usr/local/lib/python3.10/dist-packages (from wavmark==0.0.3->MyShell-OpenVoice==0.0.0) (2.5.1+cu121)\n",
            "Requirement already satisfied: torchaudio in /usr/local/lib/python3.10/dist-packages (from wavmark==0.0.3->MyShell-OpenVoice==0.0.0) (2.5.1+cu121)\n",
            "Requirement already satisfied: tqdm in /usr/local/lib/python3.10/dist-packages (from wavmark==0.0.3->MyShell-OpenVoice==0.0.0) (4.67.1)\n",
            "Requirement already satisfied: Cython in /usr/local/lib/python3.10/dist-packages (from whisper-timestamped==1.14.2->MyShell-OpenVoice==0.0.0) (3.0.11)\n",
            "Requirement already satisfied: dtw-python in /usr/local/lib/python3.10/dist-packages (from whisper-timestamped==1.14.2->MyShell-OpenVoice==0.0.0) (1.4.4)\n",
            "Requirement already satisfied: openai-whisper in /usr/local/lib/python3.10/dist-packages (from whisper-timestamped==1.14.2->MyShell-OpenVoice==0.0.0) (20240930)\n",
            "Requirement already satisfied: fsspec in /usr/local/lib/python3.10/dist-packages (from gradio-client==0.6.1->gradio==3.48.0->MyShell-OpenVoice==0.0.0) (2024.10.0)\n",
            "Requirement already satisfied: jsonschema>=3.0 in /usr/local/lib/python3.10/dist-packages (from altair<6.0,>=4.2.0->gradio==3.48.0->MyShell-OpenVoice==0.0.0) (4.23.0)\n",
            "Requirement already satisfied: narwhals>=1.14.2 in /usr/local/lib/python3.10/dist-packages (from altair<6.0,>=4.2.0->gradio==3.48.0->MyShell-OpenVoice==0.0.0) (1.18.4)\n",
            "Requirement already satisfied: filelock in /usr/local/lib/python3.10/dist-packages (from huggingface-hub>=0.13->faster-whisper==0.9.0->MyShell-OpenVoice==0.0.0) (3.16.1)\n",
            "Requirement already satisfied: contourpy>=1.0.1 in /usr/local/lib/python3.10/dist-packages (from matplotlib~=3.0->gradio==3.48.0->MyShell-OpenVoice==0.0.0) (1.2.1)\n",
            "Requirement already satisfied: cycler>=0.10 in /usr/local/lib/python3.10/dist-packages (from matplotlib~=3.0->gradio==3.48.0->MyShell-OpenVoice==0.0.0) (0.12.1)\n",
            "Requirement already satisfied: fonttools>=4.22.0 in /usr/local/lib/python3.10/dist-packages (from matplotlib~=3.0->gradio==3.48.0->MyShell-OpenVoice==0.0.0) (4.55.3)\n",
            "Requirement already satisfied: kiwisolver>=1.0.1 in /usr/local/lib/python3.10/dist-packages (from matplotlib~=3.0->gradio==3.48.0->MyShell-OpenVoice==0.0.0) (1.4.7)\n",
            "Requirement already satisfied: pyparsing>=2.3.1 in /usr/local/lib/python3.10/dist-packages (from matplotlib~=3.0->gradio==3.48.0->MyShell-OpenVoice==0.0.0) (3.2.0)\n",
            "Requirement already satisfied: python-dateutil>=2.7 in /usr/local/lib/python3.10/dist-packages (from matplotlib~=3.0->gradio==3.48.0->MyShell-OpenVoice==0.0.0) (2.8.2)\n",
            "Requirement already satisfied: llvmlite<0.44,>=0.43.0dev0 in /usr/local/lib/python3.10/dist-packages (from numba>=0.45.1->librosa==0.9.1->MyShell-OpenVoice==0.0.0) (0.43.0)\n",
            "Requirement already satisfied: coloredlogs in /usr/local/lib/python3.10/dist-packages (from onnxruntime<2,>=1.14->faster-whisper==0.9.0->MyShell-OpenVoice==0.0.0) (15.0.1)\n",
            "Requirement already satisfied: flatbuffers in /usr/local/lib/python3.10/dist-packages (from onnxruntime<2,>=1.14->faster-whisper==0.9.0->MyShell-OpenVoice==0.0.0) (24.3.25)\n",
            "Requirement already satisfied: protobuf in /usr/local/lib/python3.10/dist-packages (from onnxruntime<2,>=1.14->faster-whisper==0.9.0->MyShell-OpenVoice==0.0.0) (4.25.5)\n",
            "Requirement already satisfied: sympy in /usr/local/lib/python3.10/dist-packages (from onnxruntime<2,>=1.14->faster-whisper==0.9.0->MyShell-OpenVoice==0.0.0) (1.13.1)\n",
            "Requirement already satisfied: pytz>=2020.1 in /usr/local/lib/python3.10/dist-packages (from pandas<3.0,>=1.0->gradio==3.48.0->MyShell-OpenVoice==0.0.0) (2024.2)\n",
            "Requirement already satisfied: tzdata>=2022.1 in /usr/local/lib/python3.10/dist-packages (from pandas<3.0,>=1.0->gradio==3.48.0->MyShell-OpenVoice==0.0.0) (2024.2)\n",
            "Requirement already satisfied: platformdirs>=2.5.0 in /usr/local/lib/python3.10/dist-packages (from pooch>=1.0->librosa==0.9.1->MyShell-OpenVoice==0.0.0) (4.3.6)\n",
            "Requirement already satisfied: annotated-types>=0.6.0 in /usr/local/lib/python3.10/dist-packages (from pydantic!=1.8,!=1.8.1,!=2.0.0,!=2.0.1,<3.0.0,>=1.7.4->gradio==3.48.0->MyShell-OpenVoice==0.0.0) (0.7.0)\n",
            "Requirement already satisfied: pydantic-core==2.27.1 in /usr/local/lib/python3.10/dist-packages (from pydantic!=1.8,!=1.8.1,!=2.0.0,!=2.0.1,<3.0.0,>=1.7.4->gradio==3.48.0->MyShell-OpenVoice==0.0.0) (2.27.1)\n",
            "Requirement already satisfied: charset-normalizer<4,>=2 in /usr/local/lib/python3.10/dist-packages (from requests~=2.0->gradio==3.48.0->MyShell-OpenVoice==0.0.0) (3.4.0)\n",
            "Requirement already satisfied: idna<4,>=2.5 in /usr/local/lib/python3.10/dist-packages (from requests~=2.0->gradio==3.48.0->MyShell-OpenVoice==0.0.0) (3.10)\n",
            "Requirement already satisfied: urllib3<3,>=1.21.1 in /usr/local/lib/python3.10/dist-packages (from requests~=2.0->gradio==3.48.0->MyShell-OpenVoice==0.0.0) (2.2.3)\n",
            "Requirement already satisfied: certifi>=2017.4.17 in /usr/local/lib/python3.10/dist-packages (from requests~=2.0->gradio==3.48.0->MyShell-OpenVoice==0.0.0) (2024.12.14)\n",
            "Requirement already satisfied: threadpoolctl>=3.1.0 in /usr/local/lib/python3.10/dist-packages (from scikit-learn>=0.19.1->librosa==0.9.1->MyShell-OpenVoice==0.0.0) (3.5.0)\n",
            "Requirement already satisfied: cffi>=1.0 in /usr/local/lib/python3.10/dist-packages (from soundfile>=0.10.2->librosa==0.9.1->MyShell-OpenVoice==0.0.0) (1.17.1)\n",
            "Requirement already satisfied: click>=7.0 in /usr/local/lib/python3.10/dist-packages (from uvicorn>=0.14.0->gradio==3.48.0->MyShell-OpenVoice==0.0.0) (8.1.7)\n",
            "Requirement already satisfied: h11>=0.8 in /usr/local/lib/python3.10/dist-packages (from uvicorn>=0.14.0->gradio==3.48.0->MyShell-OpenVoice==0.0.0) (0.14.0)\n",
            "Requirement already satisfied: starlette<0.42.0,>=0.40.0 in /usr/local/lib/python3.10/dist-packages (from fastapi->gradio==3.48.0->MyShell-OpenVoice==0.0.0) (0.41.3)\n",
            "Requirement already satisfied: anyio in /usr/local/lib/python3.10/dist-packages (from httpx->gradio==3.48.0->MyShell-OpenVoice==0.0.0) (3.7.1)\n",
            "Requirement already satisfied: httpcore==1.* in /usr/local/lib/python3.10/dist-packages (from httpx->gradio==3.48.0->MyShell-OpenVoice==0.0.0) (1.0.7)\n",
            "Requirement already satisfied: more-itertools in /usr/local/lib/python3.10/dist-packages (from openai-whisper->whisper-timestamped==1.14.2->MyShell-OpenVoice==0.0.0) (10.5.0)\n",
            "Requirement already satisfied: tiktoken in /usr/local/lib/python3.10/dist-packages (from openai-whisper->whisper-timestamped==1.14.2->MyShell-OpenVoice==0.0.0) (0.8.0)\n",
            "Requirement already satisfied: triton>=2.0.0 in /usr/local/lib/python3.10/dist-packages (from openai-whisper->whisper-timestamped==1.14.2->MyShell-OpenVoice==0.0.0) (3.1.0)\n",
            "Requirement already satisfied: networkx in /usr/local/lib/python3.10/dist-packages (from torch->wavmark==0.0.3->MyShell-OpenVoice==0.0.0) (3.4.2)\n",
            "Requirement already satisfied: mpmath<1.4,>=1.1.0 in /usr/local/lib/python3.10/dist-packages (from sympy->onnxruntime<2,>=1.14->faster-whisper==0.9.0->MyShell-OpenVoice==0.0.0) (1.3.0)\n",
            "Requirement already satisfied: pycparser in /usr/local/lib/python3.10/dist-packages (from cffi>=1.0->soundfile>=0.10.2->librosa==0.9.1->MyShell-OpenVoice==0.0.0) (2.22)\n",
            "Requirement already satisfied: attrs>=22.2.0 in /usr/local/lib/python3.10/dist-packages (from jsonschema>=3.0->altair<6.0,>=4.2.0->gradio==3.48.0->MyShell-OpenVoice==0.0.0) (24.3.0)\n",
            "Requirement already satisfied: jsonschema-specifications>=2023.03.6 in /usr/local/lib/python3.10/dist-packages (from jsonschema>=3.0->altair<6.0,>=4.2.0->gradio==3.48.0->MyShell-OpenVoice==0.0.0) (2024.10.1)\n",
            "Requirement already satisfied: referencing>=0.28.4 in /usr/local/lib/python3.10/dist-packages (from jsonschema>=3.0->altair<6.0,>=4.2.0->gradio==3.48.0->MyShell-OpenVoice==0.0.0) (0.35.1)\n",
            "Requirement already satisfied: rpds-py>=0.7.1 in /usr/local/lib/python3.10/dist-packages (from jsonschema>=3.0->altair<6.0,>=4.2.0->gradio==3.48.0->MyShell-OpenVoice==0.0.0) (0.22.3)\n",
            "Requirement already satisfied: six>=1.5 in /usr/local/lib/python3.10/dist-packages (from python-dateutil>=2.7->matplotlib~=3.0->gradio==3.48.0->MyShell-OpenVoice==0.0.0) (1.17.0)\n",
            "Requirement already satisfied: sniffio>=1.1 in /usr/local/lib/python3.10/dist-packages (from anyio->httpx->gradio==3.48.0->MyShell-OpenVoice==0.0.0) (1.3.1)\n",
            "Requirement already satisfied: exceptiongroup in /usr/local/lib/python3.10/dist-packages (from anyio->httpx->gradio==3.48.0->MyShell-OpenVoice==0.0.0) (1.2.2)\n",
            "Requirement already satisfied: humanfriendly>=9.1 in /usr/local/lib/python3.10/dist-packages (from coloredlogs->onnxruntime<2,>=1.14->faster-whisper==0.9.0->MyShell-OpenVoice==0.0.0) (10.0)\n",
            "Requirement already satisfied: regex>=2022.1.18 in /usr/local/lib/python3.10/dist-packages (from tiktoken->openai-whisper->whisper-timestamped==1.14.2->MyShell-OpenVoice==0.0.0) (2024.11.6)\n",
            "Installing collected packages: MyShell-OpenVoice\n",
            "  Attempting uninstall: MyShell-OpenVoice\n",
            "    Found existing installation: MyShell-OpenVoice 0.0.0\n",
            "    Uninstalling MyShell-OpenVoice-0.0.0:\n",
            "      Successfully uninstalled MyShell-OpenVoice-0.0.0\n",
            "  Running setup.py develop for MyShell-OpenVoice\n",
            "Successfully installed MyShell-OpenVoice-0.0.0\n"
          ]
        }
      ],
      "source": [
        "!pip install python-dotenv\n",
        "!cd /content/OpenVoice && pip install -e .\n",
        "# !pip install --upgrade websockets>=13.0,<15.0\n",
        "# !pip install --upgrade google-genai\n",
        "# !pip install -q gradio==3.50.2 langid faster-whisper whisper-timestamped unidecode eng-to-ipa pypinyin cn2an\n"
      ],
      "id": "dyvv8ZaEs4Br"
    },
    {
      "cell_type": "code",
      "execution_count": 4,
      "metadata": {
        "id": "aSX-WTBe1i-B",
        "outputId": "9b11a7cd-8b6c-4a46-f76f-fd5ec707a5e4",
        "colab": {
          "base_uri": "https://localhost:8080/"
        }
      },
      "outputs": [
        {
          "output_type": "stream",
          "name": "stdout",
          "text": [
            "Downloaded checkpoints_1226.zip to: /content\n",
            "Extracted checkpoints_1226.zip to: /content/OpenVoice\n",
            "Downloaded checkpoints_v2_0417.zip to: /content\n",
            "Extracted checkpoints_v2_0417.zip to: /content/OpenVoice\n"
          ]
        }
      ],
      "source": [
        "import os\n",
        "import zipfile\n",
        "import requests\n",
        "\n",
        "def download_and_extract(url, download_dir=\"/content\", extract_dir=\"/content/OpenVoice\"):\n",
        "    \"\"\"Downloads and extracts a zip file from a URL to the specified directories.\n",
        "\n",
        "    Args:\n",
        "        url (str): The URL of the zip file.\n",
        "        download_dir (str, optional): The directory to download the zip file to. Defaults to \"/content\".\n",
        "        extract_dir (str, optional): The directory to extract the zip file to. Defaults to \"/content\".\n",
        "    \"\"\"\n",
        "    os.makedirs(download_dir, exist_ok=True)  # Ensure download directory exists\n",
        "    os.makedirs(extract_dir, exist_ok=True)  # Ensure extract directory exists\n",
        "\n",
        "    # Extract filename from URL\n",
        "    filename = url.split(\"/\")[-1]\n",
        "    zip_file_path = os.path.join(download_dir, filename)\n",
        "\n",
        "    # Download the zip file\n",
        "    response = requests.get(url, stream=True)\n",
        "    with open(zip_file_path, \"wb\") as f:\n",
        "        for chunk in response.iter_content(chunk_size=1024):\n",
        "            if chunk:\n",
        "                f.write(chunk)\n",
        "\n",
        "    # Extract the zip file\n",
        "    with zipfile.ZipFile(zip_file_path, \"r\") as zip_ref:\n",
        "        zip_ref.extractall(extract_dir)\n",
        "\n",
        "    print(f\"Downloaded {filename} to: {download_dir}\")\n",
        "    print(f\"Extracted {filename} to: {extract_dir}\")\n",
        "\n",
        "\n",
        "# URLs of the zip files\n",
        "urls = [\n",
        "    \"https://myshell-public-repo-host.s3.amazonaws.com/openvoice/checkpoints_1226.zip\",\n",
        "    \"https://myshell-public-repo-host.s3.amazonaws.com/openvoice/checkpoints_v2_0417.zip\",\n",
        "]\n",
        "\n",
        "# Download and extract each zip file\n",
        "for url in urls:\n",
        "    download_and_extract(url)"
      ],
      "id": "aSX-WTBe1i-B"
    },
    {
      "cell_type": "code",
      "execution_count": 5,
      "id": "b7f043ee",
      "metadata": {
        "id": "b7f043ee",
        "outputId": "6475ce41-a220-4db0-dd77-7f84c3f25e4e",
        "colab": {
          "base_uri": "https://localhost:8080/",
          "height": 211
        }
      },
      "outputs": [
        {
          "output_type": "error",
          "ename": "RuntimeError",
          "evalue": "module was compiled against NumPy C-API version 0x10 (NumPy 1.23) but the running NumPy has C-API version 0xf. Check the section C-API incompatibility at the Troubleshooting ImportError section at https://numpy.org/devdocs/user/troubleshooting-importerror.html#c-api-incompatibility for indications on how to solve this problem.",
          "traceback": [
            "\u001b[0;31m---------------------------------------------------------------------------\u001b[0m",
            "\u001b[0;31mRuntimeError\u001b[0m                              Traceback (most recent call last)",
            "\u001b[0;31mRuntimeError\u001b[0m: module was compiled against NumPy C-API version 0x10 (NumPy 1.23) but the running NumPy has C-API version 0xf. Check the section C-API incompatibility at the Troubleshooting ImportError section at https://numpy.org/devdocs/user/troubleshooting-importerror.html#c-api-incompatibility for indications on how to solve this problem."
          ]
        },
        {
          "output_type": "stream",
          "name": "stdout",
          "text": [
            "Importing the dtw module. When using in academic works please cite:\n",
            "  T. Giorgino. Computing and Visualizing Dynamic Time Warping Alignments in R: The dtw Package.\n",
            "  J. Stat. Soft., doi:10.18637/jss.v031.i07.\n",
            "\n"
          ]
        }
      ],
      "source": [
        "import os\n",
        "import torch\n",
        "from openvoice import se_extractor\n",
        "from openvoice.api import ToneColorConverter"
      ]
    },
    {
      "cell_type": "markdown",
      "id": "15116b59",
      "metadata": {
        "id": "15116b59"
      },
      "source": [
        "### Initialization"
      ]
    },
    {
      "cell_type": "code",
      "execution_count": 6,
      "id": "aacad912",
      "metadata": {
        "id": "aacad912",
        "outputId": "896a5069-bb43-4e6c-be8b-fb9bf4b1bedc",
        "colab": {
          "base_uri": "https://localhost:8080/"
        }
      },
      "outputs": [
        {
          "output_type": "stream",
          "name": "stderr",
          "text": [
            "/usr/local/lib/python3.10/dist-packages/torch/nn/utils/weight_norm.py:143: FutureWarning: `torch.nn.utils.weight_norm` is deprecated in favor of `torch.nn.utils.parametrizations.weight_norm`.\n",
            "  WeightNorm.apply(module, name, dim)\n"
          ]
        },
        {
          "output_type": "stream",
          "name": "stdout",
          "text": [
            "Loaded checkpoint 'checkpoints/converter/checkpoint.pth'\n",
            "missing/unexpected keys: [] []\n"
          ]
        },
        {
          "output_type": "stream",
          "name": "stderr",
          "text": [
            "/usr/local/lib/python3.10/dist-packages/wavmark/__init__.py:16: FutureWarning: You are using `torch.load` with `weights_only=False` (the current default value), which uses the default pickle module implicitly. It is possible to construct malicious pickle data which will execute arbitrary code during unpickling (See https://github.com/pytorch/pytorch/blob/main/SECURITY.md#untrusted-models for more details). In a future release, the default value for `weights_only` will be flipped to `True`. This limits the functions that could be executed during unpickling. Arbitrary objects will no longer be allowed to be loaded via this mode unless they are explicitly allowlisted by the user via `torch.serialization.add_safe_globals`. We recommend you start setting `weights_only=True` for any use case where you don't have full control of the loaded file. Please open an issue on GitHub for any issues related to this experimental feature.\n",
            "  checkpoint = torch.load(resume_path, map_location=torch.device('cpu'))\n",
            "/content/OpenVoice/openvoice/api.py:36: FutureWarning: You are using `torch.load` with `weights_only=False` (the current default value), which uses the default pickle module implicitly. It is possible to construct malicious pickle data which will execute arbitrary code during unpickling (See https://github.com/pytorch/pytorch/blob/main/SECURITY.md#untrusted-models for more details). In a future release, the default value for `weights_only` will be flipped to `True`. This limits the functions that could be executed during unpickling. Arbitrary objects will no longer be allowed to be loaded via this mode unless they are explicitly allowlisted by the user via `torch.serialization.add_safe_globals`. We recommend you start setting `weights_only=True` for any use case where you don't have full control of the loaded file. Please open an issue on GitHub for any issues related to this experimental feature.\n",
            "  checkpoint_dict = torch.load(ckpt_path, map_location=torch.device(self.device))\n"
          ]
        }
      ],
      "source": [
        "ckpt_converter = 'checkpoints/converter'\n",
        "device=\"cuda:0\" if torch.cuda.is_available() else \"cpu\"\n",
        "output_dir = 'outputs'\n",
        "\n",
        "tone_color_converter = ToneColorConverter(f'{ckpt_converter}/config.json', device=device)\n",
        "tone_color_converter.load_ckpt(f'{ckpt_converter}/checkpoint.pth')\n",
        "\n",
        "os.makedirs(output_dir, exist_ok=True)"
      ]
    },
    {
      "cell_type": "markdown",
      "id": "3db80fcf",
      "metadata": {
        "id": "3db80fcf"
      },
      "source": [
        "In this demo, we will use OpenAI TTS as the base speaker to produce multi-lingual speech audio. The users can flexibly change the base speaker according to their own needs. Please create a file named `.env` and place OpenAI key as `OPENAI_API_KEY=xxx`. We have also provided a Chinese base speaker model (see `demo_part1.ipynb`)."
      ]
    },
    {
      "cell_type": "code",
      "execution_count": 8,
      "id": "3b245ca3",
      "metadata": {
        "id": "3b245ca3",
        "outputId": "ec4be323-51a2-4138-e5b4-4a1021fc55f6",
        "colab": {
          "base_uri": "https://localhost:8080/"
        }
      },
      "outputs": [
        {
          "output_type": "stream",
          "name": "stderr",
          "text": [
            "<ipython-input-8-4e72c1473675>:18: DeprecationWarning: Due to a bug, this method doesn't actually stream the response content, `.with_streaming_response.method()` should be used instead\n",
            "  response.stream_to_file(f\"{output_dir}/openai_source_output.mp3\")\n"
          ]
        }
      ],
      "source": [
        "from openai import OpenAI\n",
        "from dotenv import load_dotenv\n",
        "\n",
        "# Please create a file named .env and place your\n",
        "# OpenAI key as OPENAI_API_KEY=xxx\n",
        "load_dotenv()\n",
        "\n",
        "client = OpenAI(api_key=os.environ.get(\"OPENAI_API_KEY\"))\n",
        "\n",
        "response = client.audio.speech.create(\n",
        "    model=\"tts-1\",\n",
        "    voice=\"nova\",\n",
        "    input=\"This audio will be used to extract the base speaker tone color embedding. \" + \\\n",
        "        \"Typically a very short audio should be sufficient, but increasing the audio \" + \\\n",
        "        \"length will also improve the output audio quality.\"\n",
        ")\n",
        "\n",
        "response.stream_to_file(f\"{output_dir}/openai_source_output.mp3\")"
      ]
    },
    {
      "cell_type": "markdown",
      "id": "7f67740c",
      "metadata": {
        "id": "7f67740c"
      },
      "source": [
        "### Obtain Tone Color Embedding"
      ]
    },
    {
      "cell_type": "markdown",
      "id": "f8add279",
      "metadata": {
        "id": "f8add279"
      },
      "source": [
        "The `source_se` is the tone color embedding of the base speaker.\n",
        "It is an average for multiple sentences with multiple emotions\n",
        "of the base speaker. We directly provide the result here but\n",
        "the readers feel free to extract `source_se` by themselves."
      ]
    },
    {
      "cell_type": "code",
      "execution_count": 9,
      "id": "63ff6273",
      "metadata": {
        "id": "63ff6273",
        "outputId": "05906085-353a-4776-b90e-90cd9494eaa5",
        "colab": {
          "base_uri": "https://localhost:8080/"
        }
      },
      "outputs": [
        {
          "output_type": "stream",
          "name": "stdout",
          "text": [
            "OpenVoice version: v1\n"
          ]
        },
        {
          "output_type": "stream",
          "name": "stderr",
          "text": [
            "/usr/local/lib/python3.10/dist-packages/torch/hub.py:330: UserWarning: You are about to download and run code from an untrusted repository. In a future release, this won't be allowed. To add the repository to your trusted list, change the command to {calling_fn}(..., trust_repo=False) and a command prompt will appear asking for an explicit confirmation of trust, or load(..., trust_repo=True), which will assume that the prompt is to be answered with 'yes'. You can also use load(..., trust_repo='check') which will only prompt for confirmation if the repo is not already trusted. This will eventually be the default behaviour\n",
            "  warnings.warn(\n",
            "Downloading: \"https://github.com/snakers4/silero-vad/zipball/master\" to /root/.cache/torch/hub/master.zip\n"
          ]
        },
        {
          "output_type": "stream",
          "name": "stdout",
          "text": [
            "[(0.0, 12.192)]\n",
            "after vad: dur = 12.192\n"
          ]
        },
        {
          "output_type": "stream",
          "name": "stderr",
          "text": [
            "/usr/local/lib/python3.10/dist-packages/torch/functional.py:704: UserWarning: stft with return_complex=False is deprecated. In a future pytorch release, stft will return complex tensors for all inputs, and return_complex=False will raise an error.\n",
            "Note: you can still call torch.view_as_real on the complex output to recover the old return format. (Triggered internally at ../aten/src/ATen/native/SpectralOps.cpp:873.)\n",
            "  return _VF.stft(  # type: ignore[attr-defined]\n"
          ]
        },
        {
          "output_type": "stream",
          "name": "stdout",
          "text": [
            "OpenVoice version: v1\n",
            "[(0.0, 58.8188125)]\n",
            "after vad: dur = 58.81798185941043\n"
          ]
        }
      ],
      "source": [
        "base_speaker = f\"{output_dir}/openai_source_output.mp3\"\n",
        "source_se, audio_name = se_extractor.get_se(base_speaker, tone_color_converter, vad=True)\n",
        "\n",
        "reference_speaker = 'resources/example_reference.mp3' # This is the voice you want to clone\n",
        "target_se, audio_name = se_extractor.get_se(reference_speaker, tone_color_converter, vad=True)"
      ]
    },
    {
      "cell_type": "markdown",
      "id": "a40284aa",
      "metadata": {
        "id": "a40284aa"
      },
      "source": [
        "### Inference"
      ]
    },
    {
      "cell_type": "code",
      "execution_count": 10,
      "id": "73dc1259",
      "metadata": {
        "id": "73dc1259",
        "outputId": "dc95a80b-3925-4d77-e021-fee506a5eb46",
        "colab": {
          "base_uri": "https://localhost:8080/"
        }
      },
      "outputs": [
        {
          "output_type": "stream",
          "name": "stderr",
          "text": [
            "<ipython-input-10-009475ca6fd0>:25: DeprecationWarning: Due to a bug, this method doesn't actually stream the response content, `.with_streaming_response.method()` should be used instead\n",
            "  response.stream_to_file(src_path)\n"
          ]
        }
      ],
      "source": [
        "# Run the base speaker tts\n",
        "text = [\n",
        "    \"MyShell is a decentralized and comprehensive platform for discovering, creating, and staking AI-native apps.\",\n",
        "    \"MyShell es una plataforma descentralizada y completa para descubrir, crear y apostar por aplicaciones nativas de IA.\",\n",
        "    \"MyShell est une plateforme décentralisée et complète pour découvrir, créer et miser sur des applications natives d'IA.\",\n",
        "    \"MyShell ist eine dezentralisierte und umfassende Plattform zum Entdecken, Erstellen und Staken von KI-nativen Apps.\",\n",
        "    \"MyShell è una piattaforma decentralizzata e completa per scoprire, creare e scommettere su app native di intelligenza artificiale.\",\n",
        "    \"MyShellは、AIネイティブアプリの発見、作成、およびステーキングのための分散型かつ包括的なプラットフォームです。\",\n",
        "    \"MyShell — это децентрализованная и всеобъемлющая платформа для обнаружения, создания и стейкинга AI-ориентированных приложений.\",\n",
        "    \"MyShell هي منصة لامركزية وشاملة لاكتشاف وإنشاء ورهان تطبيقات الذكاء الاصطناعي الأصلية.\",\n",
        "    \"MyShell是一个去中心化且全面的平台，用于发现、创建和投资AI原生应用程序。\",\n",
        "    \"MyShell एक विकेंद्रीकृत और व्यापक मंच है, जो AI-मूल ऐप्स की खोज, सृजन और स्टेकिंग के लिए है।\",\n",
        "    \"MyShell é uma plataforma descentralizada e abrangente para descobrir, criar e apostar em aplicativos nativos de IA.\"\n",
        "]\n",
        "src_path = f'{output_dir}/tmp.wav'\n",
        "\n",
        "for i, t in enumerate(text):\n",
        "\n",
        "    response = client.audio.speech.create(\n",
        "        model=\"tts-1\",\n",
        "        voice=\"nova\",\n",
        "        input=t,\n",
        "    )\n",
        "\n",
        "    response.stream_to_file(src_path)\n",
        "\n",
        "    save_path = f'{output_dir}/output_crosslingual_{i}.wav'\n",
        "\n",
        "    # Run the tone color converter\n",
        "    encode_message = \"@MyShell\"\n",
        "    tone_color_converter.convert(\n",
        "        audio_src_path=src_path,\n",
        "        src_se=source_se,\n",
        "        tgt_se=target_se,\n",
        "        output_path=save_path,\n",
        "        message=encode_message)"
      ]
    }
  ],
  "metadata": {
    "interpreter": {
      "hash": "9d70c38e1c0b038dbdffdaa4f8bfa1f6767c43760905c87a9fbe7800d18c6c35"
    },
    "kernelspec": {
      "display_name": "Python 3",
      "name": "python3"
    },
    "language_info": {
      "codemirror_mode": {
        "name": "ipython",
        "version": 3
      },
      "file_extension": ".py",
      "mimetype": "text/x-python",
      "name": "python",
      "nbconvert_exporter": "python",
      "pygments_lexer": "ipython3",
      "version": "3.9.18"
    },
    "colab": {
      "provenance": [],
      "machine_shape": "hm",
      "gpuType": "T4",
      "include_colab_link": true
    },
    "accelerator": "GPU"
  },
  "nbformat": 4,
  "nbformat_minor": 5
}