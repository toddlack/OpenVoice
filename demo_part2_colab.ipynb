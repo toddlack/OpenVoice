{
  "cells": [
    {
      "cell_type": "markdown",
      "metadata": {
        "id": "view-in-github",
        "colab_type": "text"
      },
      "source": [
        "<a href=\"https://colab.research.google.com/github/toddlack/OpenVoice/blob/dev/demo_part2_colab.ipynb\" target=\"_parent\"><img src=\"https://colab.research.google.com/assets/colab-badge.svg\" alt=\"Open In Colab\"/></a>"
      ]
    },
    {
      "cell_type": "markdown",
      "id": "b6ee1ede",
      "metadata": {
        "id": "b6ee1ede"
      },
      "source": [
        "## Cross-Lingual Voice Clone Demo"
      ]
    },
    {
      "cell_type": "code",
      "source": [
        "# prompt: mount google drive\n",
        "\n",
        "from google.colab import drive\n",
        "drive.mount('/content/drive')\n"
      ],
      "metadata": {
        "id": "4WxYU7TMrH4M"
      },
      "outputs": [],
      "execution_count": null,
      "id": "4WxYU7TMrH4M"
    },
    {
      "cell_type": "code",
      "execution_count": null,
      "metadata": {
        "id": "Qkx1Xt3IAMlN"
      },
      "outputs": [],
      "source": [
        "# @title Clone repo for local use\n",
        "#Clone a repo and cd into the new directory\n",
        "content_root = \"/content\" # @param {\"type\":\"string\",\"placeholder\":\"content root\"}\n",
        "git_repo='https://github.com/toddlack/OpenVoice.git'  # @param {\"type\":\"string\",\"placeholder\":\"git repo url\"}\n",
        "git_branch='dev'  # @param {\"type\":\"string\",\"placeholder\":\"git branch\"}\n",
        "app_root=git_repo.split('/')[-1].replace('.git', '')\n",
        "assets_dir=f'{content_root}/{app_root}/assets'\n",
        "%cd {content_root}\n",
        "!git clone --single-branch -b {git_branch} {git_repo}\n",
        "%cd {app_root}\n"
      ],
      "id": "Qkx1Xt3IAMlN"
    },
    {
      "cell_type": "code",
      "execution_count": null,
      "metadata": {
        "id": "dyvv8ZaEs4Br"
      },
      "outputs": [],
      "source": [
        "!pip install python-dotenv\n",
        "!cd /content/OpenVoice && pip install -e .\n",
        "# !pip install --upgrade websockets>=13.0,<15.0\n",
        "# !pip install --upgrade google-genai\n",
        "# !pip install -q gradio==3.50.2 langid faster-whisper whisper-timestamped unidecode eng-to-ipa pypinyin cn2an\n"
      ],
      "id": "dyvv8ZaEs4Br"
    },
    {
      "cell_type": "code",
      "execution_count": null,
      "metadata": {
        "id": "aSX-WTBe1i-B"
      },
      "outputs": [],
      "source": [
        "import os\n",
        "import zipfile\n",
        "import requests\n",
        "\n",
        "def download_and_extract(url, download_dir=\"/content\", extract_dir=\"/content/OpenVoice\"):\n",
        "    \"\"\"Downloads and extracts a zip file from a URL to the specified directories.\n",
        "\n",
        "    Args:\n",
        "        url (str): The URL of the zip file.\n",
        "        download_dir (str, optional): The directory to download the zip file to. Defaults to \"/content\".\n",
        "        extract_dir (str, optional): The directory to extract the zip file to. Defaults to \"/content\".\n",
        "    \"\"\"\n",
        "    os.makedirs(download_dir, exist_ok=True)  # Ensure download directory exists\n",
        "    os.makedirs(extract_dir, exist_ok=True)  # Ensure extract directory exists\n",
        "\n",
        "    # Extract filename from URL\n",
        "    filename = url.split(\"/\")[-1]\n",
        "    zip_file_path = os.path.join(download_dir, filename)\n",
        "\n",
        "    # Download the zip file\n",
        "    response = requests.get(url, stream=True)\n",
        "    with open(zip_file_path, \"wb\") as f:\n",
        "        for chunk in response.iter_content(chunk_size=1024):\n",
        "            if chunk:\n",
        "                f.write(chunk)\n",
        "\n",
        "    # Extract the zip file\n",
        "    with zipfile.ZipFile(zip_file_path, \"r\") as zip_ref:\n",
        "        zip_ref.extractall(extract_dir)\n",
        "\n",
        "    print(f\"Downloaded {filename} to: {download_dir}\")\n",
        "    print(f\"Extracted {filename} to: {extract_dir}\")\n",
        "\n",
        "\n",
        "# URLs of the zip files\n",
        "urls = [\n",
        "    \"https://myshell-public-repo-host.s3.amazonaws.com/openvoice/checkpoints_1226.zip\",\n",
        "    \"https://myshell-public-repo-host.s3.amazonaws.com/openvoice/checkpoints_v2_0417.zip\",\n",
        "]\n",
        "\n",
        "# Download and extract each zip file\n",
        "for url in urls:\n",
        "    download_and_extract(url)"
      ],
      "id": "aSX-WTBe1i-B"
    },
    {
      "cell_type": "code",
      "execution_count": null,
      "id": "b7f043ee",
      "metadata": {
        "id": "b7f043ee"
      },
      "outputs": [],
      "source": [
        "import os\n",
        "import torch\n",
        "from openvoice import se_extractor\n",
        "from openvoice.api import ToneColorConverter"
      ]
    },
    {
      "cell_type": "markdown",
      "id": "15116b59",
      "metadata": {
        "id": "15116b59"
      },
      "source": [
        "### Initialization"
      ]
    },
    {
      "cell_type": "code",
      "execution_count": null,
      "id": "aacad912",
      "metadata": {
        "id": "aacad912"
      },
      "outputs": [],
      "source": [
        "ckpt_converter = 'checkpoints/converter'\n",
        "device=\"cuda:0\" if torch.cuda.is_available() else \"cpu\"\n",
        "output_dir = 'outputs'\n",
        "\n",
        "tone_color_converter = ToneColorConverter(f'{ckpt_converter}/config.json', device=device)\n",
        "tone_color_converter.load_ckpt(f'{ckpt_converter}/checkpoint.pth')\n",
        "\n",
        "os.makedirs(output_dir, exist_ok=True)"
      ]
    },
    {
      "cell_type": "markdown",
      "id": "3db80fcf",
      "metadata": {
        "id": "3db80fcf"
      },
      "source": [
        "In this demo, we will use OpenAI TTS as the base speaker to produce multi-lingual speech audio. The users can flexibly change the base speaker according to their own needs. Please create a file named `.env` and place OpenAI key as `OPENAI_API_KEY=xxx`. We have also provided a Chinese base speaker model (see `demo_part1.ipynb`)."
      ]
    },
    {
      "cell_type": "code",
      "execution_count": null,
      "id": "3b245ca3",
      "metadata": {
        "id": "3b245ca3"
      },
      "outputs": [],
      "source": [
        "from openai import OpenAI\n",
        "from dotenv import load_dotenv\n",
        "\n",
        "# Please create a file named .env and place your\n",
        "# OpenAI key as OPENAI_API_KEY=xxx\n",
        "load_dotenv()\n",
        "\n",
        "client = OpenAI(api_key=os.environ.get(\"OPENAI_API_KEY\"))\n",
        "\n",
        "response = client.audio.speech.create(\n",
        "    model=\"tts-1\",\n",
        "    voice=\"nova\",\n",
        "    input=\"This audio will be used to extract the base speaker tone color embedding. \" + \\\n",
        "        \"Typically a very short audio should be sufficient, but increasing the audio \" + \\\n",
        "        \"length will also improve the output audio quality.\"\n",
        ")\n",
        "\n",
        "response.stream_to_file(f\"{output_dir}/openai_source_output.mp3\")"
      ]
    },
    {
      "cell_type": "markdown",
      "id": "7f67740c",
      "metadata": {
        "id": "7f67740c"
      },
      "source": [
        "### Obtain Tone Color Embedding"
      ]
    },
    {
      "cell_type": "markdown",
      "id": "f8add279",
      "metadata": {
        "id": "f8add279"
      },
      "source": [
        "The `source_se` is the tone color embedding of the base speaker.\n",
        "It is an average for multiple sentences with multiple emotions\n",
        "of the base speaker. We directly provide the result here but\n",
        "the readers feel free to extract `source_se` by themselves."
      ]
    },
    {
      "cell_type": "code",
      "execution_count": null,
      "id": "63ff6273",
      "metadata": {
        "id": "63ff6273"
      },
      "outputs": [],
      "source": [
        "base_speaker = f\"{output_dir}/openai_source_output.mp3\"\n",
        "source_se, audio_name = se_extractor.get_se(base_speaker, tone_color_converter, vad=True)\n",
        "\n",
        "reference_speaker = 'resources/example_reference.mp3' # This is the voice you want to clone\n",
        "target_se, audio_name = se_extractor.get_se(reference_speaker, tone_color_converter, vad=True)"
      ]
    },
    {
      "cell_type": "markdown",
      "id": "a40284aa",
      "metadata": {
        "id": "a40284aa"
      },
      "source": [
        "### Inference"
      ]
    },
    {
      "cell_type": "code",
      "execution_count": null,
      "id": "73dc1259",
      "metadata": {
        "id": "73dc1259"
      },
      "outputs": [],
      "source": [
        "# Run the base speaker tts\n",
        "text = [\n",
        "    \"MyShell is a decentralized and comprehensive platform for discovering, creating, and staking AI-native apps.\",\n",
        "    \"MyShell es una plataforma descentralizada y completa para descubrir, crear y apostar por aplicaciones nativas de IA.\",\n",
        "    \"MyShell est une plateforme décentralisée et complète pour découvrir, créer et miser sur des applications natives d'IA.\",\n",
        "    \"MyShell ist eine dezentralisierte und umfassende Plattform zum Entdecken, Erstellen und Staken von KI-nativen Apps.\",\n",
        "    \"MyShell è una piattaforma decentralizzata e completa per scoprire, creare e scommettere su app native di intelligenza artificiale.\",\n",
        "    \"MyShellは、AIネイティブアプリの発見、作成、およびステーキングのための分散型かつ包括的なプラットフォームです。\",\n",
        "    \"MyShell — это децентрализованная и всеобъемлющая платформа для обнаружения, создания и стейкинга AI-ориентированных приложений.\",\n",
        "    \"MyShell هي منصة لامركزية وشاملة لاكتشاف وإنشاء ورهان تطبيقات الذكاء الاصطناعي الأصلية.\",\n",
        "    \"MyShell是一个去中心化且全面的平台，用于发现、创建和投资AI原生应用程序。\",\n",
        "    \"MyShell एक विकेंद्रीकृत और व्यापक मंच है, जो AI-मूल ऐप्स की खोज, सृजन और स्टेकिंग के लिए है।\",\n",
        "    \"MyShell é uma plataforma descentralizada e abrangente para descobrir, criar e apostar em aplicativos nativos de IA.\"\n",
        "]\n",
        "src_path = f'{output_dir}/tmp.wav'\n",
        "\n",
        "for i, t in enumerate(text):\n",
        "\n",
        "    response = client.audio.speech.create(\n",
        "        model=\"tts-1\",\n",
        "        voice=\"nova\",\n",
        "        input=t,\n",
        "    )\n",
        "\n",
        "    response.stream_to_file(src_path)\n",
        "\n",
        "    save_path = f'{output_dir}/output_crosslingual_{i}.wav'\n",
        "\n",
        "    # Run the tone color converter\n",
        "    encode_message = \"@MyShell\"\n",
        "    tone_color_converter.convert(\n",
        "        audio_src_path=src_path,\n",
        "        src_se=source_se,\n",
        "        tgt_se=target_se,\n",
        "        output_path=save_path,\n",
        "        message=encode_message)"
      ]
    },
    {
      "cell_type": "code",
      "source": [],
      "metadata": {
        "id": "2Y7GoNAZ0m01"
      },
      "id": "2Y7GoNAZ0m01",
      "execution_count": null,
      "outputs": []
    },
    {
      "cell_type": "code",
      "source": [
        "python_env = \"'env_ai'\" # @param {\"type\":\"string\",\"placeholder\":\"Python Environment\"}\n",
        "!apt install python3.10-venv\n",
        "!python -m venv {python_env}\n",
        "!source {python_env}/bin/activate\n"
      ],
      "metadata": {
        "id": "gu4Mvt4BzeD1"
      },
      "id": "gu4Mvt4BzeD1",
      "execution_count": null,
      "outputs": []
    }
  ],
  "metadata": {
    "interpreter": {
      "hash": "9d70c38e1c0b038dbdffdaa4f8bfa1f6767c43760905c87a9fbe7800d18c6c35"
    },
    "kernelspec": {
      "display_name": "Python 3",
      "name": "python3"
    },
    "language_info": {
      "codemirror_mode": {
        "name": "ipython",
        "version": 3
      },
      "file_extension": ".py",
      "mimetype": "text/x-python",
      "name": "python",
      "nbconvert_exporter": "python",
      "pygments_lexer": "ipython3",
      "version": "3.9.18"
    },
    "colab": {
      "provenance": [],
      "machine_shape": "hm",
      "gpuType": "T4",
      "include_colab_link": true
    },
    "accelerator": "GPU"
  },
  "nbformat": 4,
  "nbformat_minor": 5
}